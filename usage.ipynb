{
 "cells": [
  {
   "cell_type": "code",
   "execution_count": 1,
   "metadata": {
    "nbsphinx": "hidden"
   },
   "outputs": [],
   "source": [
    "import jupman"
   ]
  },
  {
   "cell_type": "markdown",
   "metadata": {},
   "source": [
    "\n",
    "# Jupman Usage\n",
    "\n",
    "Jupyter Python 3 worksheets build system and exam manager. See Jupman manual at [jupman.readthedocs.io](http://jupman.readthedocs.io)\n",
    "\n",
    "Jupman uses [NbSphinx](http://nbsphinx.readthedocs.io/) and either [ReadTheDocs](https://readthedocs.org) or [Github Actions](https://github.com/features/actions)"
   ]
  },
  {
   "cell_type": "markdown",
   "metadata": {},
   "source": [
    "## Installation\n",
    "\n",
    "(Instructions are for Ubuntu, on Windows may differ)\n",
    "\n",
    "First, on Github, fork as a template [jupman project](https://github.com/DavidLeoni/jupman) to create yours, for example `my-project`.\n",
    "\n",
    "Then, on your computer, clone the `my-project` from Github \n",
    "\n",
    "You can choose to build either on:\n",
    "\n",
    "- ReadTheDocs\n",
    "- Github Actions\n",
    "- locally with plain Sphinx\n",
    "- locally with [RTD Docker](https://github.com/DavidLeoni/readthedocs-to-actions)\n",
    "\n",
    "(Note Jupman itself is building on both ReadTheDocs and Github Actions only for testing purposes, one is enough)"
   ]
  },
  {
   "cell_type": "markdown",
   "metadata": {},
   "source": [
    "### Building with ReadTheDocs:\n",
    "\n",
    "**IMPORTANT: choose a name which is NOT already on** [ReadTheDocs](http://readthedocs.org)\n",
    "\n",
    "Create a [ReadTheDocs account](http://readthedocs.org) **using the same name as in Github**\n",
    "so the address in readthedocs will be something like _my-project.readthedocs.org_.\n",
    "\n",
    "* Use ReadTheDocs panels to link the project to your Github repository.\n",
    "* In _Admin-> Advanced settings panel_, set:\n",
    "    * _Python interpreter_ to _CPython 3.x_ \n",
    "    * _Requirements_ to `requirements-build.txt`  \n",
    "        "
   ]
  },
  {
   "cell_type": "markdown",
   "metadata": {},
   "source": [
    "### Building with Github Actions:\n",
    "\n",
    "Configure [.github/workflows/main.yml](https://github.com/DavidLeoni/jupman/blob/master/.github/workflows/main.yml) on your computer to your needs - you will need to:\n",
    "\n",
    "1. at the beginning there is an `if` which makes the workflow only work in `DavidLeoni/jupman` repository, change it with your names\n",
    "2. set RTD_PRJ_NAME \n",
    "3. If you want to publish to [Github Pages](https://pages.github.com/): everything is set, just create an empty branch `gh-pages` in an new HTML_FOLDER **before** committing - from some other folder in your file system:\n",
    "\n",
    "```bash\n",
    "git clone  YOUR_REPO_ADDRESS  HTML_FOLDER\n",
    "cd HTML_FOLDER\n",
    "git checkout --orphan gh-pages\n",
    "git rm -rf .\n",
    "touch bla\n",
    "git add .\n",
    "git commit -m \"init\"\n",
    "git push origin gh-pages\n",
    "```"
   ]
  },
  {
   "cell_type": "markdown",
   "metadata": {},
   "source": [
    "### Local build with Sphinx\n",
    "\n",
    "1. Install Python 3.7+\n",
    "1. [Install Jupyter](http://jupyter.org/install.html)\n",
    "1. Install Python modules -from the root of the project, run:\n",
    "    ```bash\n",
    "    python3 -m pip install --user -r requirements-build.txt\n",
    "    ```\n",
    "    This will install required modules in your home directory"
   ]
  },
  {
   "cell_type": "markdown",
   "metadata": {},
   "source": [
    "### Optional - Running tests\n",
    "\n",
    "To check everything is working, you may want to run the tests.\n",
    "\n",
    "1. Install test dependencies: \n",
    "\n",
    "```bash\n",
    "python3 -m pip install --user -r _test/requirements-test.txt\n",
    "```\n",
    "\n",
    "2. Run the tests:\n",
    "\n",
    "```bash\n",
    "python3 -m pytest _test/*_test.py\n",
    "```\n"
   ]
  },
  {
   "cell_type": "markdown",
   "metadata": {},
   "source": [
    "### Optional - Install Jupyter contrib extensions\n",
    "\n",
    "For a better editing experience like having Table of contents and other things, do the following:\n",
    "\n",
    "\n",
    "1. install the [Jupyter contrib extensions](https://github.com/ipython-contrib/jupyter_contrib_nbextensions) package:\n",
    "\n",
    "\n",
    "If you have Anaconda:\n",
    "\n",
    "```bash\n",
    "conda install -c conda-forge jupyter_contrib_nbextensions \n",
    "```\n",
    "\n",
    "If you don't have Anaconda:\n",
    "```bash\n",
    "python3 -m pip install --user jupyter_contrib_nbextensions\n",
    "```\n",
    "\n",
    "2. Install in Jupyter:\n",
    "\n",
    "```bash\n",
    "jupyter contrib nbextension install --user\n",
    "```\n",
    "\n",
    "3. Enable extension:\n",
    "\n",
    "For being able to view table of contents while editing notebooks, install `toc2` extension:\n",
    "\n",
    "```bash\n",
    "jupyter nbextension enable toc2/main\n",
    "```\n",
    "For tocs to appear when in a document you will need to press a list button at the right-end of the toolbar.\n",
    "\n",
    "(since Jupman 0.8 custom injected tocs are disabled by default)\n",
    "\n",
    "4. For a nice GUI to install extensions, install the [Jupyter Nbextensions configurator](https://github.com/Jupyter-contrib/jupyter_nbextensions_configurator): \n",
    "\n",
    "If you have Anaconda:\n",
    "\n",
    "From Anaconda Prompt:\n",
    "```\n",
    "conda install -c conda-forge jupyter_nbextensions_configurator \n",
    "```\n",
    "\n",
    "If you don't have Anaconda:\n",
    "\n",
    "```bash\n",
    "python3 -m pip install --user jupyter_nbextensions_configurator\n",
    "```\n",
    "\n",
    "After installing, enable it: \n",
    "\n",
    "```bash\n",
    "jupyter nbextensions_configurator enable --user\n",
    "```\n",
    "and then start Jupyter, in file browser look for a `Nbextensions` tab \n",
    "   \n"
   ]
  },
  {
   "cell_type": "markdown",
   "metadata": {},
   "source": [
    "    \n",
    "## Getting Started\n",
    "\n",
    "1. Edit [conf.py](https://github.com/DavidLeoni/jupman/blob/master/conf.py) as needed, which is the configuration file for Sphinx. In particular, you **MUST** edit the sections marked with **TODO**\n",
    "2. Try launching build:\n",
    "\n",
    "    ```bash\n",
    "    python3 build.py\n",
    "    ```\n",
    "    For more info, see [related section](#Building-the-manual)\n",
    "3. If everything works fine on your computer, push changes back to Github\n",
    "4. Go back to ReadTheDocs and try to run a build. Hopefully your project will become available on something like _my-project.readthedocs.org_\n",
    "5. If you want to grade exams, see [Exams](#Exams) section.\n",
    "\n",
    "You should now be ready to create your notebooks by launching from the project root:\n",
    "\n",
    "```bash\n",
    " jupyter notebook\n",
    "```\n",
    "\n",
    "6. If you wish your notebooks to appear in the generated manual, you have to add them in the `toc.rst` file.\n",
    "\n",
    "    **NOTE**: the page [toc-page.rst](https://github.com/DavidLeoni/jupman/blob/master/toc-page.rst), which is set to be the `master_doc` of Sphinx, will just load the actual Table of Contents which is in [toc.rst](https://github.com/DavidLeoni/jupman/blob/master/toc.rst). It looks a bit convoluted because when it comes to indexes Sphinx is not much reliable,  [see this issue](https://github.com/DavidLeoni/jupman/issues/11) . We strongly advise *not* to change these settings !\n",
    "7. edit the home, which is in  the [index.ipynb](https://github.com/DavidLeoni/jupman/blob/master/index.ipynb) file\n",
    "\n"
   ]
  },
  {
   "cell_type": "markdown",
   "metadata": {},
   "source": [
    "## Building the manual\n",
    "\n",
    "\n",
    "For quick build that only produces html:\n",
    "\n",
    "```bash\n",
    "python3 build.py -q\n",
    "```\n",
    "\n",
    "Site will be created in `_build/` folder.\n",
    "\n",
    "\n",
    "For help: \n",
    "\n",
    "```bash\n",
    "python3 build.py -h\n",
    "```\n",
    "\n",
    "\n",
    "To build everything (html + pdf + epub), go to the console and from the root directory run:\n",
    "\n",
    "```bash\n",
    "python3 build.py\n",
    "```\n",
    "\n",
    "\n",
    "**NOTE: to generate PDFs you will need to install Latex environment**"
   ]
  },
  {
   "cell_type": "markdown",
   "metadata": {},
   "source": [
    "## Publishing\n",
    "\n",
    "For publishing, the system uses ReadTheDocs so it's enough to push to master and ReadTheDocs will do the rest (for example, for jupman is available at address [jupman.readthedocs.io](http://jupman.readthedocs.io) \n",
    "\n",
    "**IMPORTANT: ReadTheDocs WILL _NOT_ execute Jupyter notebooks because of** [this bug](https://github.com/DavidLeoni/softpython/issues/2)"
   ]
  },
  {
   "cell_type": "markdown",
   "metadata": {},
   "source": [
    "## Editing the worksheets\n",
    "\n",
    "Here we give an overview of how to edit worksheets. More info can be found in [Jupman tests notebook](jupman-tests.ipynb)\n",
    "\n"
   ]
  },
  {
   "cell_type": "markdown",
   "metadata": {},
   "source": [
    "### Common files\n",
    "\n",
    "There are a bunch of files common to all worksheets and possibly website \n",
    "\n",
    "*You do not need to change them (except maybe my_lib.py)*\n",
    "\n",
    "|File|Description|Jupyter|Website|\n",
    "|-----|----|----|-----|\n",
    "|[jupman.py](https://github.com/DavidLeoni/jupman/blob/master/jupman.py)|utilities for worksheets|X||\n",
    "|[my_lib.py](https://github.com/DavidLeoni/jupman/blob/master/jupman.py)|custom utilities for worksheets (you can change the name)|X||\n",
    "|[_static/js/jupman.js](https://github.com/DavidLeoni/jupman/blob/master/_static/js/jupman.js)|Javascript code|X|X|\n",
    "|[_static/css/jupman.css](https://github.com/DavidLeoni/jupman/blob/master/_static/css/jupman.css)|CSS|X||\n",
    "|[_static/css/jupman-web.css](https://github.com/DavidLeoni/jupman/blob/master/_static/css/jupman-web.css)|CSS||X|\n"
   ]
  },
  {
   "cell_type": "markdown",
   "metadata": {},
   "source": [
    "### Running Jupyter\n",
    "\n",
    "First of all, run Jupyter from the root directory:\n",
    "\n",
    "\n",
    "```bash\n",
    "    jupyter notebook\n",
    "```\n"
   ]
  },
  {
   "cell_type": "markdown",
   "metadata": {},
   "source": [
    "### Source code for chapters\n",
    "\n",
    "Put chapters one per folder, in the root. Any folder which doesn't start with underscore `_`  or `exam/` will be considered a chapter.\n",
    "\n",
    "During build, each chapter gets automatically zipped and zip goes to `_static/generated`. So for example, `python-example/` produces a zip called `_static/generated/python-example.zip`, which will have these contents:\n",
    "\n",
    "```\n",
    "\n",
    "\n",
    "python-example\n",
    "    _static\n",
    "       js\n",
    "          jupman.js\n",
    "          toc.js\n",
    "       css\n",
    "          jupman.css\n",
    "       img\n",
    "          cc-by.png\n",
    "    python-example.ipynb         \n",
    "    lab.py      \n",
    "    lab_test.py\n",
    "    lab_sol.py\n",
    "    jupman.py\n",
    "    my_lib.py\n",
    "```\n",
    "\n",
    "\n",
    "The zip folder structure will be a merge of chapter files and files shared by all chapters which are specified in  `exercises_common_files` variable in [conf.py](conf.py). Since the root in the zip becomes the chapter itself, jupman will process `.py` and `.ipynb` files for fixing eventual relative imports. Markdown and HTML links in ipynb will also be adjusted.\n",
    "\n",
    "Exercise files can be automatically generated from solutions, as we will see next."
   ]
  },
  {
   "cell_type": "markdown",
   "metadata": {},
   "source": [
    "\n",
    "### Exercise types\n",
    "\n",
    "There can be three kinds of exercises: exercises in Python files,  exercises in Jupyter files and mixed jupyter and Python exercises.\n",
    "\n",
    "You can automatically generate an exercise from a solution file by stripping text marked with special tags. You can inspect generated files in `_build/jupman/` directory\n",
    "\n",
    "On the website, students will be able to see solutions by clicking on appropriate buttons.\n",
    "\n",
    "In the zips to download, two versions of files will provided, one without solution and one with solutions (in exam modality of course no solution will be shipped)"
   ]
  },
  {
   "cell_type": "markdown",
   "metadata": {},
   "source": [
    "#### Exercises in Python files\n",
    "\n",
    "See [python-example/python-example.ipynb](python-example/python-example.ipynb)\n",
    "\n",
    "\n",
    "In this type of exercises, typically you have a Jupyter file (like `python-example.ipynb`) that describes the exercise and then the actual exercises are in Python files. \n",
    "\n",
    "\n",
    "If there is a solution file `FILE_sol.py` ending in `_sol.py` but no corresponding exercise file `FILE.py` without the `_sol`: \n",
    "\n",
    "then Jupman will try to generate `FILE.py` one from `FILE_sol.py`. To do so, it will look for tags to strip inside the solution file.\n",
    "\n",
    "If there is already an exercise file like this: \n",
    "\n",
    "* `python_intro.py`\n",
    "* `python_intro_sol.py`\n",
    "\n",
    "Jupman will just copy the existing file."
   ]
  },
  {
   "cell_type": "markdown",
   "metadata": {},
   "source": [
    "#### Exercises in Jupyter files\n",
    "\n",
    "See example: [jupyter-example/jupyter-example-sol.ipynb](jupyter-example/jupyter-example-sol.ipynb)\n",
    "\n",
    "This type of exercises stay in a Jupyter notebook itself.\n",
    "\n",
    "If there is a notebook ending in `-sol.ipynb`, the following applies (**WARNING**: for `ipynb` files we use dash `-`, _not_ the underscore `_`):\n",
    "\n",
    "- the notebook must contain tags to strip\n",
    "- exercises derived will have 'EXERCISES' appended to the title (the word can be customized in `conf.py` - you might need to translate it)"
   ]
  },
  {
   "cell_type": "markdown",
   "metadata": {},
   "source": [
    "#### Mixed exercises in Jupyter and Python files\n",
    "\n",
    "See [jup-and-py-example/jup-and-py-example-sol.ipynb](jup-and-py-example/jup-and-py-example-sol.ipynb)"
   ]
  },
  {
   "cell_type": "markdown",
   "metadata": {},
   "source": [
    "#### Challenges\n",
    "\n",
    "<div class=\"alert alert-warning\">\n",
    "    \n",
    "This is an experimental feature, current implementation is subject to change.\n",
    "   \n",
    "</div>\n",
    "\n",
    "Challenges are solutions which remain unpublished and from which exercises are generated **in the same original older** where the solution resides (not only in the zip!). Challenge files  can be both Jupyter notebooks or Python files, ending in `-chal-sol.ipynb` or `_chal_sol.py`.  \n",
    "\n",
    "The idea is that challenges solutions are gitignored, and exercises are manually generated by  calling `jupman.generate_exercise()` inside a Jupyter notebook like this:\n",
    "\n",
    "```python\n",
    "#jupman-purge\n",
    "import sys; sys.path.append('../'); from conf import jm;\n",
    "jm.generate_exercise('great_chal_sol.py')\n",
    "#/jupman-purge\n",
    "```\n",
    "\n",
    "It is a bit laborious but the idea is that typically you will also want to  run and see tests results in Jupyter notebook so you can do it in the same final cell, which you will also probably want to set in cell metadata `\"nbsphinx\":\"hidden\"`\n",
    "\n",
    "* the solution notebook must contain tags to strip and have SOLUTIONS at the end of the title  (the word can be customized in `conf.py` - you might need to translate it)"
   ]
  },
  {
   "cell_type": "markdown",
   "metadata": {},
   "source": [
    "### Solution tags\n",
    "\n",
    "Presence of these tags marks a cell as a solution.\n",
    "\n",
    "Start tags begin with a `#` while end tags begin with a `#\\`\n",
    "\n",
    "#### jupman-raise\n",
    "\n",
    "Replaces code inside with an Exception (text is customizable in `conf.py`). Be careful to position the comment exactly with the indentation yuoi want the raise to appear. For example:\n",
    "\n",
    "```python\n",
    "\n",
    "def add(x,y):   \n",
    "    #jupman-raise\n",
    "    return x + y\n",
    "    #/jupman-raise\n",
    "\n",
    "```\n",
    "\n",
    "becomes\n",
    "\n",
    "```python\n",
    "\n",
    "def add(x,y):   \n",
    "    raise Exception('TODO IMPLEMENT ME !')\n",
    "\n",
    "```\n",
    "\n"
   ]
  },
  {
   "cell_type": "markdown",
   "metadata": {},
   "source": [
    "#### jupman-strip\n",
    "\n",
    "Just strips code inside exercises\n",
    "\n",
    "```python\n",
    "def f(x):\n",
    "    print(x)\n",
    "    \n",
    "#jupman-strip\n",
    "def help_func(x,y):\n",
    "    return x - y\n",
    "#/jupman-strip\n",
    "\n",
    "def g(y):\n",
    "    return y\n",
    "```\n",
    "\n",
    "becomes\n",
    "\n",
    "```python\n",
    "def f(x):\n",
    "    print(x)\n",
    "\n",
    "def g(y):\n",
    "    return y\n",
    "    \n",
    "```\n",
    "\n"
   ]
  },
  {
   "cell_type": "markdown",
   "metadata": {},
   "source": [
    "#### write here\n",
    "\n",
    "This special tag for python code erases whatever is found afterwards the `# write here` **line**\n",
    "\n",
    "* you can put how many spaces you want in the comment\n",
    "* phrase can be customized in `conf.py`\n",
    "\n",
    "```python\n",
    "\n",
    "w = 5\n",
    "\n",
    "#  write  here  fast please\n",
    "\n",
    "x = 5 + w\n",
    "y = 2 + x\n",
    "```\n",
    "\n",
    "becomes\n",
    "\n",
    "```python\n",
    "\n",
    "w = 5\n",
    "\n",
    "#  write  here  fast please\n",
    "\n",
    "\n",
    "```\n"
   ]
  },
  {
   "cell_type": "markdown",
   "metadata": {},
   "source": [
    "#### SOLUTION\n",
    "\n",
    "In a code cell, if you put `# SOLUTION` at the beginning the whole cell cell content gets deleted (`# SOLUTION` string included).\n",
    "\n",
    "* Word can be customized in `conf.py`\n",
    "\n",
    "\n",
    "```\n",
    "# SOLUTION\n",
    "\n",
    "def f():\n",
    "    print('hello')\n",
    "```\n",
    "\n",
    "becomes nothing:\n"
   ]
  },
  {
   "cell_type": "code",
   "execution_count": null,
   "metadata": {},
   "outputs": [],
   "source": []
  },
  {
   "cell_type": "markdown",
   "metadata": {},
   "source": [
    "#### QUESTION - ANSWER\n",
    "\n",
    "In a markdown cell, everything in a cell with `**ANSWER**:` inside will be stripped. \n",
    "\n",
    "* Markdown can be customized in `conf.py`"
   ]
  },
  {
   "cell_type": "markdown",
   "metadata": {},
   "source": [
    "**QUESTION**: Describe why iPhone n+1 is better than iPhone n"
   ]
  },
  {
   "cell_type": "markdown",
   "metadata": {},
   "source": [
    "<b>ANSWER</b>: it costs more"
   ]
  },
  {
   "cell_type": "markdown",
   "metadata": {},
   "source": [
    "Becomes:"
   ]
  },
  {
   "cell_type": "markdown",
   "metadata": {},
   "source": [
    "**QUESTION**: Describe why iPhone n+1 is better than iPhone n"
   ]
  },
  {
   "cell_type": "code",
   "execution_count": null,
   "metadata": {},
   "outputs": [],
   "source": []
  },
  {
   "cell_type": "markdown",
   "metadata": {},
   "source": [
    "### Directive tags\n",
    "\n",
    "Some tags change the preprocessor behaviour. They are applied before solution tags."
   ]
  },
  {
   "cell_type": "markdown",
   "metadata": {},
   "source": [
    "#### jupman-purge\n",
    "\n",
    "Eliminate content both from exercises AND solutions. Can be helpful when you have code which creates expected output, like images or python data - the idea is to completely remove code so so students don't accidentally copy-paste it or uncomment it.\n",
    "\n",
    "* `jupman-purge-input`: purges only cell source\n",
    "* `jupman-purge-output`: purges only cell output\n",
    "* `jupman-purge-io` : purges both input and output\n",
    "\n",
    "`jupman-purge` purges only a span:\n",
    "\n",
    "```python\n",
    "x=5\n",
    "#jupman-purge\n",
    "plt.savefig('expected_image.png')\n",
    "jupman.save_py('expected_output_db.py', ['big', 'data', 'structure']*1000)    \n",
    "#/jupman-purge\n",
    "x=6\n",
    "```\n",
    "becomes\n",
    "\n",
    "```python\n",
    "x=5\n",
    "x=6\n",
    "```"
   ]
  },
  {
   "cell_type": "markdown",
   "metadata": {},
   "source": [
    "#### jupman-preprocess\n",
    "\n",
    "By default  only notebooks solutions (ending in `-sol.ipynb`) are preprocessed before  html conversion begins.  If you want to force preprocessing on a particular non-solution notebook, add this in the first cell:\n",
    "\n",
    "```python\n",
    "#jupman-preprocess\n",
    "```"
   ]
  },
  {
   "cell_type": "markdown",
   "metadata": {},
   "source": [
    "### Utilities and custom js and css\n",
    "\n",
    "If you need custom js and/or css in a notebook, you can inject it by running `jupman.init()` in the first cell\n",
    "\n",
    "**NOTE**: it is not really mandatory, it's mostly intended to tweak notebooks downloaded locally. It should be avoided for notebooks meant for students, as it is more likely it will mess their configurations - also, they might copy the notebooks without knowing they contain the custom js and use weird extensions which could generate conflicts (such as double toc)\n",
    "\n",
    "For notebooks in the root folder:\n",
    "\n",
    "```python\n",
    "import jupman\n",
    "jupman.init()\n",
    "```\n",
    "Worksheets in in subfolders can use `sys.path` to locate the module\n",
    "\n",
    "```python\n",
    "import sys\n",
    "sys.path.append('../')\n",
    "import jupman\n",
    "jupman.init()\n",
    "```\n",
    "If you think it looks ugly, see [this issue](https://github.com/DavidLeoni/jupman/issues/12) for why we don't use alternatives such as modules and relative imports.\n",
    "\n",
    "**Show table of contents**: Since 0.8, toc is disabled. If you want it, try to [install toc2 extension](#Optional---Install-Jupyter-contrib-extensions), otherwise you can still enable jupman toc with `jupman_init(toc=True)`. Running it will create the sidebar even when editing in Jupyter. If you want to refresh the sidebar, just run again the cell. It is not recommended, though, especially in notebooks meant to be shipped to students (see considerations above).\n"
   ]
  },
  {
   "cell_type": "markdown",
   "metadata": {},
   "source": [
    "### Hiding cells\n",
    "\n",
    "To hide cells (like for example the `import jupman` code), click `View->Cell toolbar -> Edit metadata`\n",
    "and add `\"nbsphinx\": \"hidden\"` to the JSON (see also original [NBSphinx docs](\n",
    "https://nbsphinx.readthedocs.io/en/0.2.14/hidden-cells.html#Hidden-Cells\n",
    ") and [Togglable cells in Jupman tests](jupman-tests.ipynb#Togglable-cells) ).\n",
    "\n",
    "**NOTE**: As of NBSphinx 2.17, it is not possible to hide only cell text but not the output."
   ]
  },
  {
   "cell_type": "markdown",
   "metadata": {},
   "source": [
    "#### Implications of hiding 'import jupman'\n",
    "\n",
    "Only in the HTML version, hiding the `import jupman` code, will also prevent `jupman.py` to embed inside the page the Javascript file `jupman.js`: this is perfectly fine as it is fetched separately thanks to the `app.add_javascript('js/jupman.js')` command in `conf.py`\n",
    "\n",
    "\n"
   ]
  },
  {
   "cell_type": "markdown",
   "metadata": {},
   "source": [
    "### Launch unit tests\n",
    "\n",
    "Inside worksheets you can run `unittest` tests. \n",
    "\n",
    "To run all the tests of a test class, write like this\n",
    "\n",
    "```python\n",
    "jupman.run(NameOfTheTestClass)\n",
    "```\n",
    "\n",
    "To run a single method, write like this:\n",
    "\n",
    "```python\n",
    "jupman.run(NameOfTheTestClass.nameOfTheMethod)\n",
    "```\n"
   ]
  },
  {
   "cell_type": "markdown",
   "metadata": {},
   "source": [
    "### Python Tutor\n",
    "\n",
    "Among the various ways to embed Python Tutor, we decided to implement a special `jupman.pytut()` method. First you need to import the jupman module:"
   ]
  },
  {
   "cell_type": "code",
   "execution_count": 2,
   "metadata": {},
   "outputs": [],
   "source": [
    "import jupman"
   ]
  },
  {
   "cell_type": "markdown",
   "metadata": {},
   "source": [
    "Then you can put a call to `jupman.pytut()` at the end of a cell, and the cell code will magically appear in python tutor in the output (except the call to `pytut()` of course). To see Python Tutor you don't need to be online"
   ]
  },
  {
   "cell_type": "code",
   "execution_count": 3,
   "metadata": {},
   "outputs": [
    {
     "data": {
      "text/html": [
       "\n",
       "        <script src=\"_static/js/pytutor-embed.bundle.min.js\" type=\"application/javascript\"></script>\n",
       "     \n",
       "        <script id=\"json-jm76a67841-b508-47d8-b688-f8bc498fd77e\" type=\"application/json\" >\n",
       "            {\"code\": \" \\nx = [5,8,4]\\ny= {3:9}\\nz = [x]\", \"trace\": [{\"line\": 2, \"event\": \"step_line\", \"func_name\": \"<module>\", \"globals\": {}, \"ordered_globals\": [], \"stack_to_render\": [], \"heap\": {}, \"stdout\": \"\"}, {\"line\": 3, \"event\": \"step_line\", \"func_name\": \"<module>\", \"globals\": {\"x\": [\"REF\", 1]}, \"ordered_globals\": [\"x\"], \"stack_to_render\": [], \"heap\": {\"1\": [\"LIST\", 5, 8, 4]}, \"stdout\": \"\"}, {\"line\": 4, \"event\": \"step_line\", \"func_name\": \"<module>\", \"globals\": {\"x\": [\"REF\", 1], \"y\": [\"REF\", 2]}, \"ordered_globals\": [\"x\", \"y\"], \"stack_to_render\": [], \"heap\": {\"1\": [\"LIST\", 5, 8, 4], \"2\": [\"DICT\", [3, 9]]}, \"stdout\": \"\"}, {\"line\": 4, \"event\": \"return\", \"func_name\": \"<module>\", \"globals\": {\"x\": [\"REF\", 1], \"y\": [\"REF\", 2], \"z\": [\"REF\", 3]}, \"ordered_globals\": [\"x\", \"y\", \"z\"], \"stack_to_render\": [], \"heap\": {\"1\": [\"LIST\", 5, 8, 4], \"2\": [\"DICT\", [3, 9]], \"3\": [\"LIST\", [\"REF\", 1]]}, \"stdout\": \"\"}]}\n",
       "        </script>\n",
       "        <div id=\"jm76a67841-b508-47d8-b688-f8bc498fd77e\" class=\"pytutorVisualizer\"> </div>\n",
       " \n",
       "        <style>\n",
       "        .vizLayoutTd {\n",
       "            background-color: #fff !important;\n",
       "        }\n",
       "                            \n",
       "        #pyStdout {\n",
       "            min-height:25px;\n",
       "        }\n",
       "\n",
       "        /* 'Edit this code' link, hiding because replaces browser tab !!!*/\n",
       "        #editCodeLinkDiv {\n",
       "            display:none;  \n",
       "        }\n",
       "        </style>   \n",
       "                            \n",
       "        <script>\n",
       "        (function(){\n",
       "\n",
       "            var trace = JSON.parse(document.getElementById('json-jm76a67841-b508-47d8-b688-f8bc498fd77e').innerHTML);                                        \n",
       "            // NOTE 1: id without #\n",
       "            // NOTE 2 - maybe there are more predictable ways, but this will work anyway\n",
       "            //        - id should be number\n",
       "            visualizerIdOverride = Math.trunc(Math.random() * 100000000000)\n",
       "            addVisualizerToPage(trace, 'jm76a67841-b508-47d8-b688-f8bc498fd77e',{'embeddedMode' : false,\n",
       "                                             'visualizerIdOverride':visualizerIdOverride})  \n",
       "            \n",
       "            \n",
       "            // set overflow for pytuts - need to do in python as css \n",
       "            // does not allow parent selection\n",
       "            var pytuts = $('.pytutorVisualizer')\n",
       "            pytuts.closest('div.output_html.rendered_html.output_result')\n",
       "                    .css('overflow-x', 'visible')\n",
       "        \n",
       "            //pytuts.closest('div.output_html.rendered_html.output_result')\n",
       "            //      .css('background-color','red')                \n",
       "            \n",
       "        })()\n",
       "        </script>\n",
       "                \n",
       "                "
      ],
      "text/plain": [
       "<IPython.core.display.HTML object>"
      ]
     },
     "execution_count": 3,
     "metadata": {},
     "output_type": "execute_result"
    }
   ],
   "source": [
    "x = [5,8,4]\n",
    "y= {3:9}\n",
    "z = [x]\n",
    "\n",
    "jupman.pytut()\n"
   ]
  },
  {
   "cell_type": "markdown",
   "metadata": {},
   "source": [
    "Beware of variables which were initialized in previous cells, they won't be available in Python Tutor and you will get an error:"
   ]
  },
  {
   "cell_type": "code",
   "execution_count": 4,
   "metadata": {},
   "outputs": [],
   "source": [
    "w = 8\n"
   ]
  },
  {
   "cell_type": "code",
   "execution_count": 5,
   "metadata": {
    "scrolled": true
   },
   "outputs": [
    {
     "name": "stderr",
     "output_type": "stream",
     "text": [
      "Traceback (most recent call last):\n",
      "  File \"/home/da/Da/prj/jupman/prj/jupman.py\", line 2428, in _runscript\n",
      "    self.run(script_str, user_globals, user_globals)\n",
      "  File \"/usr/lib/python3.7/bdb.py\", line 578, in run\n",
      "    exec(cmd, globals, locals)\n",
      "  File \"<string>\", line 2, in <module>\n",
      "NameError: name 'w' is not defined\n"
     ]
    },
    {
     "data": {
      "text/html": [
       "\n",
       "        <script src=\"_static/js/pytutor-embed.bundle.min.js\" type=\"application/javascript\"></script>\n",
       "     \n",
       "        <script id=\"json-jm77c5d8ef-c1da-4526-a5fa-6e0485b9292e\" type=\"application/json\" >\n",
       "            {\"code\": \" \\nx =  w + 5\", \"trace\": [{\"line\": 2, \"event\": \"step_line\", \"func_name\": \"<module>\", \"globals\": {}, \"ordered_globals\": [], \"stack_to_render\": [], \"heap\": {}, \"stdout\": \"\"}, {\"line\": 2, \"event\": \"exception\", \"func_name\": \"<module>\", \"globals\": {}, \"ordered_globals\": [], \"stack_to_render\": [], \"heap\": {}, \"stdout\": \"\", \"exception_msg\": \"NameError: name 'w' is not defined\"}]}\n",
       "        </script>\n",
       "        <div id=\"jm77c5d8ef-c1da-4526-a5fa-6e0485b9292e\" class=\"pytutorVisualizer\"> </div>\n",
       " \n",
       "        <style>\n",
       "        .vizLayoutTd {\n",
       "            background-color: #fff !important;\n",
       "        }\n",
       "                            \n",
       "        #pyStdout {\n",
       "            min-height:25px;\n",
       "        }\n",
       "\n",
       "        /* 'Edit this code' link, hiding because replaces browser tab !!!*/\n",
       "        #editCodeLinkDiv {\n",
       "            display:none;  \n",
       "        }\n",
       "        </style>   \n",
       "                            \n",
       "        <script>\n",
       "        (function(){\n",
       "\n",
       "            var trace = JSON.parse(document.getElementById('json-jm77c5d8ef-c1da-4526-a5fa-6e0485b9292e').innerHTML);                                        \n",
       "            // NOTE 1: id without #\n",
       "            // NOTE 2 - maybe there are more predictable ways, but this will work anyway\n",
       "            //        - id should be number\n",
       "            visualizerIdOverride = Math.trunc(Math.random() * 100000000000)\n",
       "            addVisualizerToPage(trace, 'jm77c5d8ef-c1da-4526-a5fa-6e0485b9292e',{'embeddedMode' : false,\n",
       "                                             'visualizerIdOverride':visualizerIdOverride})  \n",
       "            \n",
       "            \n",
       "            // set overflow for pytuts - need to do in python as css \n",
       "            // does not allow parent selection\n",
       "            var pytuts = $('.pytutorVisualizer')\n",
       "            pytuts.closest('div.output_html.rendered_html.output_result')\n",
       "                    .css('overflow-x', 'visible')\n",
       "        \n",
       "            //pytuts.closest('div.output_html.rendered_html.output_result')\n",
       "            //      .css('background-color','red')                \n",
       "            \n",
       "        })()\n",
       "        </script>\n",
       "                \n",
       "                "
      ],
      "text/plain": [
       "<IPython.core.display.HTML object>"
      ]
     },
     "execution_count": 5,
     "metadata": {},
     "output_type": "execute_result"
    }
   ],
   "source": [
    "x =  w + 5\n",
    "jupman.pytut()"
   ]
  },
  {
   "cell_type": "markdown",
   "metadata": {},
   "source": [
    "### Pandas\n",
    "\n",
    "Correctly rendering pandas in PDFs is not so easy ([see issue](https://github.com/DavidLeoni/jupman/issues/69)), so far we created this little function which sometimes is handy:"
   ]
  },
  {
   "cell_type": "code",
   "execution_count": 6,
   "metadata": {
    "scrolled": true
   },
   "outputs": [
    {
     "data": {
      "text/html": [
       "<div>\n",
       "<style scoped>\n",
       "    .dataframe tbody tr th:only-of-type {\n",
       "        vertical-align: middle;\n",
       "    }\n",
       "\n",
       "    .dataframe tbody tr th {\n",
       "        vertical-align: top;\n",
       "    }\n",
       "\n",
       "    .dataframe thead th {\n",
       "        text-align: right;\n",
       "    }\n",
       "</style>\n",
       "<table border=\"1\" class=\"dataframe\">\n",
       "  <thead>\n",
       "    <tr style=\"text-align: right;\">\n",
       "      <th></th>\n",
       "      <th>Name</th>\n",
       "      <th>Surname</th>\n",
       "      <th>Age</th>\n",
       "      <th>Par1</th>\n",
       "      <th>Par2</th>\n",
       "      <th>Par3</th>\n",
       "      <th>Par4</th>\n",
       "      <th>Par5</th>\n",
       "      <th>Par6</th>\n",
       "      <th>Par7</th>\n",
       "      <th>Par8</th>\n",
       "      <th>Par9</th>\n",
       "      <th>Par10</th>\n",
       "      <th>Par11</th>\n",
       "      <th>Par12</th>\n",
       "      <th>Par13</th>\n",
       "      <th>Par14</th>\n",
       "      <th>Par15</th>\n",
       "    </tr>\n",
       "  </thead>\n",
       "  <tbody>\n",
       "    <tr>\n",
       "      <th>0</th>\n",
       "      <td>Rosanna</td>\n",
       "      <td>Gippalanda</td>\n",
       "      <td>26</td>\n",
       "      <td>100</td>\n",
       "      <td>500</td>\n",
       "      <td>300</td>\n",
       "      <td>600</td>\n",
       "      <td>600</td>\n",
       "      <td>100</td>\n",
       "      <td>300</td>\n",
       "      <td>600</td>\n",
       "      <td>300</td>\n",
       "      <td>200</td>\n",
       "      <td>400</td>\n",
       "      <td>200</td>\n",
       "      <td>300</td>\n",
       "      <td>400</td>\n",
       "      <td>500</td>\n",
       "    </tr>\n",
       "    <tr>\n",
       "      <th>1</th>\n",
       "      <td>Matilda</td>\n",
       "      <td>Zampola</td>\n",
       "      <td>10</td>\n",
       "      <td>500</td>\n",
       "      <td>200</td>\n",
       "      <td>300</td>\n",
       "      <td>500</td>\n",
       "      <td>400</td>\n",
       "      <td>300</td>\n",
       "      <td>200</td>\n",
       "      <td>500</td>\n",
       "      <td>300</td>\n",
       "      <td>200</td>\n",
       "      <td>400</td>\n",
       "      <td>200</td>\n",
       "      <td>300</td>\n",
       "      <td>400</td>\n",
       "      <td>500</td>\n",
       "    </tr>\n",
       "    <tr>\n",
       "      <th>2</th>\n",
       "      <td>Mario</td>\n",
       "      <td>Cipolli</td>\n",
       "      <td>25</td>\n",
       "      <td>300</td>\n",
       "      <td>500</td>\n",
       "      <td>100</td>\n",
       "      <td>500</td>\n",
       "      <td>300</td>\n",
       "      <td>500</td>\n",
       "      <td>100</td>\n",
       "      <td>500</td>\n",
       "      <td>300</td>\n",
       "      <td>200</td>\n",
       "      <td>400</td>\n",
       "      <td>200</td>\n",
       "      <td>300</td>\n",
       "      <td>400</td>\n",
       "      <td>500</td>\n",
       "    </tr>\n",
       "    <tr>\n",
       "      <th>3</th>\n",
       "      <td>Ugo</td>\n",
       "      <td>Sgarapirri</td>\n",
       "      <td>30</td>\n",
       "      <td>100</td>\n",
       "      <td>400</td>\n",
       "      <td>200</td>\n",
       "      <td>500</td>\n",
       "      <td>300</td>\n",
       "      <td>200</td>\n",
       "      <td>600</td>\n",
       "      <td>300</td>\n",
       "      <td>300</td>\n",
       "      <td>200</td>\n",
       "      <td>400</td>\n",
       "      <td>200</td>\n",
       "      <td>300</td>\n",
       "      <td>400</td>\n",
       "      <td>500</td>\n",
       "    </tr>\n",
       "  </tbody>\n",
       "</table>\n",
       "</div>"
      ],
      "text/plain": [
       "      Name     Surname  Age  Par1  Par2  Par3  Par4  Par5  Par6  Par7  Par8  \\\n",
       "0  Rosanna  Gippalanda   26   100   500   300   600   600   100   300   600   \n",
       "1  Matilda     Zampola   10   500   200   300   500   400   300   200   500   \n",
       "2    Mario     Cipolli   25   300   500   100   500   300   500   100   500   \n",
       "3      Ugo  Sgarapirri   30   100   400   200   500   300   200   600   300   \n",
       "\n",
       "   Par9  Par10  Par11  Par12  Par13  Par14  Par15  \n",
       "0   300    200    400    200    300    400    500  \n",
       "1   300    200    400    200    300    400    500  \n",
       "2   300    200    400    200    300    400    500  \n",
       "3   300    200    400    200    300    400    500  "
      ]
     },
     "execution_count": 6,
     "metadata": {},
     "output_type": "execute_result"
    }
   ],
   "source": [
    "import pandas as pd \n",
    "    \n",
    "\n",
    "lista = [['Rosanna', 'Gippalanda', 26, 100, 500, 300, 600, 600, 100, 300, 600, 300, 200, 400, 200, 300, 400, 500],\n",
    "         ['Matilda', 'Zampola',    10, 500, 200, 300, 500, 400, 300, 200, 500, 300, 200, 400, 200, 300, 400, 500],\n",
    "         ['Mario', 'Cipolli',      25, 300, 500, 100, 500, 300, 500, 100, 500, 300, 200, 400, 200, 300, 400, 500], \n",
    "         ['Ugo', 'Sgarapirri',     30, 100, 400, 200, 500, 300, 200, 600, 300, 300, 200, 400, 200, 300, 400, 500]\n",
    "        ]\n",
    "                  \n",
    "df = pd.DataFrame(lista, columns =['Name', 'Surname', 'Age', *['Par'+str(i) for i in range(1,16)]])\n",
    "df # web"
   ]
  },
  {
   "cell_type": "code",
   "execution_count": 7,
   "metadata": {
    "scrolled": true
   },
   "outputs": [
    {
     "data": {
      "image/png": "[encoded data removed]",
      "text/plain": [
       "<Figure size 864x144 with 1 Axes>"
      ]
     },
     "metadata": {
      "needs_background": "light"
     },
     "output_type": "display_data"
    }
   ],
   "source": [
    "import jupman\n",
    "jupman.draw_df(df)  # image for pdf"
   ]
  },
  {
   "cell_type": "markdown",
   "metadata": {},
   "source": [
    "### Showing function help\n",
    "\n",
    "Python help is already quite good, but adds two useless extra lines and only works as a print, so we defined `jupman.get_doc`:"
   ]
  },
  {
   "cell_type": "code",
   "execution_count": 12,
   "metadata": {},
   "outputs": [
    {
     "name": "stdout",
     "output_type": "stream",
     "text": [
      "def get_doc(fun):\n",
      "    \"\"\" Returns the help of a function formatted in a faithful manner\n",
      "        \n",
      "        @since 3.3\n",
      "    \"\"\"\n"
     ]
    }
   ],
   "source": [
    "print(jupman.get_doc(jupman.get_doc))"
   ]
  },
  {
   "cell_type": "markdown",
   "metadata": {},
   "source": [
    "## Website\n",
    "\n",
    "### Customize theme\n",
    "\n",
    "If you want to change site colors and other changes, copy/edit [_static/css/jupman-web.css](https://github.com/DavidLeoni/jupman/blob/master/_static/css/jupman-web.css)  and set it in conf `html_css_files`:\n",
    "\n",
    "```python\n",
    "html_css_files = [\n",
    "    'css/jupman.css',      # shared among jupyter and website\n",
    "    'css/jupman-web.css',  # only on website\n",
    "    #'css/softpython-theme.css',  # uncomment to activate\n",
    "    #'css/scifi-theme.css',\n",
    "]\n",
    "\n",
    "```"
   ]
  },
  {
   "cell_type": "markdown",
   "metadata": {},
   "source": [
    "### Fonts\n",
    "\n",
    "Fonts are a bit of a complex topic\n",
    "\n",
    "TODO this part is just a collection of personal notes\n",
    "\n",
    "\n",
    "* [The missing guide to font formats](https://creativemarket.com/blog/the-missing-guide-to-font-formats)\n",
    "\n",
    "* https://docs.readthedocs.io/en/latest/guides/adding-custom-css.html\n",
    "\n",
    "* [RTD Code font issue on github](https://github.com/readthedocs/sphinx_rtd_theme/issues/524)\n",
    "\n",
    "\n",
    "Tools: \n",
    "\n",
    "Comprehensive article: https://www.useragentman.com/blog/2011/02/20/converting-font-face-fonts-quickly-in-any-os/\n",
    "and https://www.useragentman.com/blog/the-css3-font-converter/\n",
    "\n",
    "\n",
    "https://github.com/zoltan-dulac/css3FontConverter\n",
    "\n",
    "woff2\n",
    "\n",
    "https://github.com/google/woff2\n",
    "\n",
    "sfnt2woff\n",
    "\n",
    "```bash\n",
    "sudo apt-get install  libbrotli-dev\n",
    "sfnt2woff  SomeFont.otf\n",
    "```\n",
    "\n",
    "mkeot\n",
    "\n",
    "```bash\n",
    "sudo apt-get install eot-utils\n",
    "mkeot SomeFont.otf > SomeFont.eot\n",
    "```\n",
    "\n",
    "or https://github.com/wget/ttf2eot\n",
    "\n",
    "FontForge (GUI and scriptable)\n",
    "\n",
    "`sudo apt-get install fontforge`\n"
   ]
  },
  {
   "cell_type": "markdown",
   "metadata": {},
   "source": [
    "### font sizes\n",
    "\n",
    "https://www.24a11y.com/2019/pixels-vs-relative-units-in-css-why-its-still-a-big-deal/\n",
    "\n",
    "https://chiamakaikeanyi.dev/sizing-in-css-px-vs-em-vs-rem/\n"
   ]
  },
  {
   "cell_type": "markdown",
   "metadata": {},
   "source": [
    "### Warning about old versions\n",
    "\n",
    "[ReadTheDocs has a mechanism](https://docs.readthedocs.io/en/latest/versions.html) to warn the user if he's looking at an old version of the site, but we found it doesn't work much for course-based documentation. So for versioning we think it's better to adopt a mixed git branch / tags devlopment model, and we added a template warning to show in old branches. To enable it in an old branch, just rename [_templates/breadcrumbs.html.bak](_templates/breadcrumbs.html.bak) into `_templates/breadcrumbs.html` and edit as needed."
   ]
  },
  {
   "cell_type": "markdown",
   "metadata": {},
   "source": [
    "\n",
    "## Exams\n",
    "\n",
    "Jupman comes with a script to manage exams called [exam.py](exam.py), which allows to manage the full cycle of an exam.\n",
    "\n"
   ]
  },
  {
   "cell_type": "markdown",
   "metadata": {},
   "source": [
    "### What is an exam\n",
    "\n",
    "**Exam text** is represented as Jupyter notebooks, which are taken from [_templates/exam/solutions/exam-yyyy-mm-dd.ipynb](_templates/exam/solutions/exam-yyyy-mm-dd.ipynb)\n",
    "\n",
    "**Exercises for students**: they are supposed to be the exam notebook itself and / or plain python files (or the notebook itself) plus unittests and relative solutions. \n",
    "\n",
    "**Marks spreadsheet**: By default there is also an LibreOffice spreadsheet to give marks, in case you need it. \n",
    "\n",
    "When you initialize an exam with the `init` command, for example for date `2000-12-31`, all the presets in `_templates/exam/` are copied to `private/2000-12-31/` and `private/2000-12-31/solutions`. Presets can be changed at will to suit your needs. When packaging, student zip is assembled in  `private/2000-12-31/student-zip`\n",
    "\n",
    "System is flexible enough so you can privately work on next exams in `private/` folder and still being able to publish modifications to main website. After an exam, you can copy the private exam to the public folders in `past-exams/`.    \n"
   ]
  },
  {
   "cell_type": "markdown",
   "metadata": {},
   "source": [
    "### Exam commands\n",
    "\n",
    "To see the help:\n",
    "\n",
    "```bash\n",
    "python3 exam.py -h\n",
    "```\n",
    "\n",
    "To see help for a particular subcommand, like i.e. `init`, type the subcommand followed by `-h` :\n",
    "\n",
    "```bash\n",
    "python3 exam.py init -h\n",
    "```\n",
    "\n",
    "Running commands should be quite self-explanatory.\n",
    "\n",
    "NOTE: as of today (Dec 2019) software may contain bugs, but at least we check for major misuses \n",
    "(like trying to overwrite existing exams). \n",
    "\n",
    "In the file [create-exam-example.sh](create-exam-example.sh) there is a typical run of the \n",
    "script, which creates the example exam for date `2000-12-31`. Notice it might ask\n",
    "you to delete the existing 2000-12-31 exam, if it does just follow the instructions.\n",
    "Here's the output:\n",
    "\n",
    "\n",
    "```bash\n",
    "> ./create-exam-example.sh \n",
    "python3 exam.py init 2000-12-31\n",
    "  Detected release from git: 3.2.0-3-g30a995c\n",
    "No GOOGLE_ANALYTICS environment variable was found, skipping it\n",
    "  \n",
    "  You can now edit Python solutions, tests, exercises and exam notebook here  : \n",
    "\n",
    "     _private/2000-12-31/solutions\n",
    "\n",
    "  DONE.\n",
    "\n",
    "python3 exam.py package 2000-12-31\n",
    "  Detected release from git: 3.2.0-3-g30a995c\n",
    "No GOOGLE_ANALYTICS environment variable was found, skipping it\n",
    "  Cleaning _private/2000-12-31/server/jupman  ...\n",
    "  Copying exercises to _private/2000-12-31/student-zip/jupman-2000-12-31-FIRSTNAME-LASTNAME-ID/\n",
    "  Copying code  \n",
    "    from  _private/2000-12-31/solutions \n",
    "    to    _private/2000-12-31/student-zip/jupman-2000-12-31-FIRSTNAME-LASTNAME-ID/\n",
    "    Writing (patched) _private/2000-12-31/student-zip/jupman-2000-12-31-FIRSTNAME-LASTNAME-ID/exam-2000-12-31.ipynb\n",
    "    Generating _private/2000-12-31/student-zip/jupman-2000-12-31-FIRSTNAME-LASTNAME-ID/trees.py\n",
    "    Writing _private/2000-12-31/student-zip/jupman-2000-12-31-FIRSTNAME-LASTNAME-ID/example.txt \n",
    "    Generating _private/2000-12-31/student-zip/jupman-2000-12-31-FIRSTNAME-LASTNAME-ID/lists.py\n",
    "    Writing (patched) _private/2000-12-31/student-zip/jupman-2000-12-31-FIRSTNAME-LASTNAME-ID/trees_test.py\n",
    "    Writing (patched) _private/2000-12-31/student-zip/jupman-2000-12-31-FIRSTNAME-LASTNAME-ID/lists_test.py\n",
    "  Creating dir _private/2000-12-31/student-zip/jupman-2000-12-31-FIRSTNAME-LASTNAME-ID/img\n",
    "    Writing _private/2000-12-31/student-zip/jupman-2000-12-31-FIRSTNAME-LASTNAME-ID/img/mountains.jpg \n",
    "  Building pdf ..\n",
    "  Creating student exercises zip:  _private/2000-12-31/server/jupman-2000-12-31-exam.zip\n",
    "  Writing jupman.py\n",
    "  Writing my_lib.py\n",
    "  Writing _static/img/cc-by.png\n",
    "  Writing _static/js/jupman.js\n",
    "  Writing _static/css/jupman.css\n",
    "  Writing _static/js/toc.js\n",
    "  Writing _static/js/pytutor-embed.bundle.min.js\n",
    "  Wrote _private/2000-12-31/server/jupman-2000-12-31-exam.zip\n",
    "\n",
    "  DONE.\n",
    "\n",
    "\n",
    "------- Simulating some shipped exams...\n",
    "mkdir -p _private/2000-12-31/shipped/john-doe-112233\n",
    "cp _templates/exam/solutions/lists_sol.py _templates/exam/solutions/lists_test.py _templates/exam/solutions/trees_sol.py _templates/exam/solutions/trees_test.py _private/2000-12-31/shipped/john-doe-112233\n",
    "mkdir -p _private/2000-12-31/shipped/jane-doe-445566\n",
    "cp _templates/exam/solutions/lists_sol.py _templates/exam/solutions/lists_test.py _templates/exam/solutions/trees_sol.py _templates/exam/solutions/trees_test.py _private/2000-12-31/shipped/jane-doe-445566\n",
    "------- Done with shipped exams simulation, time to grade ...\n",
    "\n",
    "python3 exam.py grade 2000-12-31\n",
    "  Detected release from git: 3.2.0-3-g30a995c\n",
    "No GOOGLE_ANALYTICS environment variable was found, skipping it\n",
    "  Copying Python files to execute and eventually grade in _private/2000-12-31/graded/john-doe-112233/graded\n",
    "  Copying original shipped files (don't touch them!) in _private/2000-12-31/graded/john-doe-112233/shipped\n",
    "  Copying Python files to execute and eventually grade in _private/2000-12-31/graded/jane-doe-445566/graded\n",
    "  Copying original shipped files (don't touch them!) in _private/2000-12-31/graded/jane-doe-445566/shipped\n",
    "\n",
    "  DONE.\n",
    "\n",
    "python3 exam.py zip-grades 2000-12-31\n",
    "  Detected release from git: 3.2.0-3-g30a995c\n",
    "No GOOGLE_ANALYTICS environment variable was found, skipping it\n",
    "\n",
    "  You can now find zips to send to students in _private/2000-12-31/graded\n",
    "\n",
    "\n",
    "  DONE.\n",
    "\n",
    "python3 exam.py publish 2000-12-31\n",
    "  Detected release from git: 3.2.0-3-g30a995c\n",
    "No GOOGLE_ANALYTICS environment variable was found, skipping it\n",
    "  Copying solutions to exams/2000-12-31/solutions\n",
    "  Copying exam PDF text\n",
    "  \n",
    "  Exam Python files copied.\n",
    "  \n",
    "  You can now manually build and run the following git instructions to publish the exam.\n",
    "    ./build.py\n",
    "    git status  # just to check everything is ok\n",
    "    git add .\n",
    "    git commit -m 'published 2000-12-31 exam'\n",
    "    git push\n",
    "  \n",
    "\n",
    "  DONE.\n",
    "\n",
    "\n",
    "  Finished example exam run !!\n",
    "\n",
    "```\n",
    "\n"
   ]
  },
  {
   "cell_type": "markdown",
   "metadata": {},
   "source": [
    "## Developer notes\n",
    "\n",
    "### Fix nbsphinx to create rst files \n",
    "\n",
    "Sometimes nbsphinx does not report properly RST conversion errors ([see bug](https://github.com/DavidLeoni/jupman/issues/9)). As a hacky workaround, you might take the `nbsphinx.py` from `~/.local/lib/python3.5/site-packages/` , make a copy of it in your project home and patch it  [like this](https://github.com/DavidLeoni/jupman/commit/0f332629ce4e2b0186c954c55aea7fa67992ace9#diff-bd3d9c4d2e80ed83fd2443d1301aa65bR649) \n",
    "When you call sphinx, it will generate RST files in `_build/jupman-rst/`.\n",
    "\n",
    "Of course, things can be cleaner using a virtual env [with venv](https://docs.python.org/3/library/venv.html)"
   ]
  },
  {
   "cell_type": "markdown",
   "metadata": {},
   "source": [
    "### Git performance notes\n",
    "\n",
    "Current suggested setup for hosting on Github is creating branch gh-pages and using Github Actions to populate it with html, zips, pdf and epub files. While keeping all that stuff versioned may seem pretty inefficient, apparently git is [pretty good](https://stackoverflow.com/a/48305739) at compressing binary files \n",
    "\n",
    "The size of `.git` repo for a 1000 pdf page project SoftPython with 300 commits and 100 MB of code is:\n",
    "\n",
    "```\n",
    ".git: 183 MB\n",
    "```\n",
    "\n",
    "By truncating gh-pages to last commit and garbage collecting, we get:\n",
    "\n",
    "```\n",
    ".git: 139 MB\n",
    "```\n",
    "\n",
    "If we completely remove gh-pages branch, we get:\n",
    "\n",
    "```\n",
    ".git: 68.7 MB\n",
    "```\n",
    "\n",
    "So gh-pages size is:\n",
    "\n",
    "- one commit: 70.3 MB\n",
    "- 300 commits: 114.3 MB\n",
    "\n",
    "which is not even double than source code git size. \n",
    "\n",
    "If the repo gets really huge, in order to to shrink it some git knowledge is required.\n",
    "\n",
    "**If the repo is served from another server** and you want to truncate that server git repo:\n",
    "\n",
    "On that server console:\n",
    "\n",
    "1. first make sure you are on `gh-pages` branch:\n",
    "\n",
    "```bash\n",
    "git checkout gh-pages\n",
    "```\n",
    "\n",
    "2. truncates previous commits:\n",
    "```bash\n",
    "git fetch --depth=1 origin gh-pages\n",
    "```\n",
    "\n",
    "3. removes various links around which may still point to old commits:\n",
    "\n",
    "```bash\n",
    "git reflog expire --expire-unreachable=now --all\n",
    "```\n",
    "\n",
    "4. actually deletes from disk old commits:\n",
    "\n",
    "```bash\n",
    "git gc --aggressive --prune=all \n",
    "```\n",
    "\n",
    "Note the result of truncation cannot be pushed back to origin as git would complain it is a _shallow_ branch."
   ]
  },
  {
   "cell_type": "code",
   "execution_count": null,
   "metadata": {},
   "outputs": [],
   "source": []
  }
 ],
 "metadata": {
  "celltoolbar": "Edit Metadata",
  "kernelspec": {
   "display_name": "Python 3",
   "language": "python",
   "name": "python3"
  },
  "language_info": {
   "codemirror_mode": {
    "name": "ipython",
    "version": 3
   },
   "file_extension": ".py",
   "mimetype": "text/x-python",
   "name": "python",
   "nbconvert_exporter": "python",
   "pygments_lexer": "ipython3",
   "version": "3.7.10"
  },
  "toc": {
   "base_numbering": 1,
   "nav_menu": {},
   "number_sections": false,
   "sideBar": true,
   "skip_h1_title": false,
   "title_cell": "Table of Contents",
   "title_sidebar": "Contents",
   "toc_cell": false,
   "toc_position": {},
   "toc_section_display": true,
   "toc_window_display": true
  }
 },
 "nbformat": 4,
 "nbformat_minor": 2
}
